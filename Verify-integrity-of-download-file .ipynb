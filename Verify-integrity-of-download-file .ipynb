{
 "cells": [
  {
   "cell_type": "markdown",
   "metadata": {},
   "source": [
    "<h3 style=\"text-align:center;font-size:15px;font-weight:bolder\">Verify Integrity Of Download File</h3>"
   ]
  },
  {
   "cell_type": "markdown",
   "metadata": {},
   "source": [
    "**Bash**"
   ]
  },
  {
   "cell_type": "code",
   "execution_count": null,
   "metadata": {},
   "outputs": [],
   "source": [
    "%%bash\n",
    "sha256sum ubuntu-mate-18.04.1-desktop-amd64.iso | \\\n",
    "awk '{ if ($1 == \"6454de6681239753c6b2e2a3e4dc7880b2855f36b1f96b8d143e4c03fb5be90b\") \\ \n",
    "print \"True\"; else print \"False\"}'"
   ]
  },
  {
   "cell_type": "markdown",
   "metadata": {},
   "source": [
    "**Python**"
   ]
  },
  {
   "cell_type": "code",
   "execution_count": null,
   "metadata": {},
   "outputs": [],
   "source": [
    "from hashlib import sha256\n",
    "from pathlib import Path\n",
    "\n",
    "org_dig='ca05481a59dfa894b322d37977ad67b30e0b7fb2dbe1db92c5109794b53a1c24'\n",
    "p = Path('/home/mana/Downloads/ubuntu-budgie-22.04-desktop-amd64.iso')\n",
    "\n",
    "if sha256(p.read_bytes()).hexdigest() == org_dig:\n",
    "    print('Digest is Matched.')\n",
    "else:\n",
    "    print('Digest is not Matched.')\n",
    "    "
   ]
  }
 ],
 "metadata": {
  "kernelspec": {
   "display_name": "Python 3",
   "language": "python",
   "name": "python3"
  },
  "language_info": {
   "codemirror_mode": {
    "name": "ipython",
    "version": 3
   },
   "file_extension": ".py",
   "mimetype": "text/x-python",
   "name": "python",
   "nbconvert_exporter": "python",
   "pygments_lexer": "ipython3",
   "version": "3.8.10"
  }
 },
 "nbformat": 4,
 "nbformat_minor": 4
}
