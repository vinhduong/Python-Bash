{
 "cells": [
  {
   "cell_type": "markdown",
   "metadata": {},
   "source": [
    "<h3 style=\"text-align:center;font-size:20px;font-weight:bolder\">How To Change Password?"
   ]
  },
  {
   "cell_type": "markdown",
   "metadata": {},
   "source": [
    "Run this script in cmd line:   \n",
    "sudo pass.py username password     \n",
    "\n",
    "Check whether password changed or not. Run this command.        \n",
    "$ sudo chage -l joe | head -1"
   ]
  },
  {
   "cell_type": "code",
   "execution_count": null,
   "metadata": {},
   "outputs": [],
   "source": [
    "import sys\n",
    "import subprocess as sp\n",
    "user, password = sys.argv[1:]\n",
    "password = password.encode() + b'\\n'\n",
    "subk = dict(stdout=sp.PIPE, stdin=sp.PIPE, stderr=sp.PIPE)\n",
    "pwd_change = sp.Popen(['passwd', user], **subk)\n",
    "for i in range(2):\n",
    "    pwd_change.stdin.write(password)"
   ]
  }
 ],
 "metadata": {
  "kernelspec": {
   "display_name": "Python 3",
   "language": "python",
   "name": "python3"
  },
  "language_info": {
   "codemirror_mode": {
    "name": "ipython",
    "version": 3
   },
   "file_extension": ".py",
   "mimetype": "text/x-python",
   "name": "python",
   "nbconvert_exporter": "python",
   "pygments_lexer": "ipython3",
   "version": "3.8.10"
  }
 },
 "nbformat": 4,
 "nbformat_minor": 4
}
